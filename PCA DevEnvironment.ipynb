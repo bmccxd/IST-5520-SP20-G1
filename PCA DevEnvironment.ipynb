{
 "cells": [
  {
   "cell_type": "code",
   "execution_count": 3,
   "metadata": {},
   "outputs": [],
   "source": [
    "# import packages\n",
    "import numpy as np\n",
    "import pandas as pd\n",
    "\n",
    "import re\n",
    "from datetime import datetime"
   ]
  },
  {
   "cell_type": "code",
   "execution_count": 4,
   "metadata": {},
   "outputs": [],
   "source": [
    "# read in data\n",
    "df = pd.read_csv('./combined.csv')"
   ]
  },
  {
   "cell_type": "code",
   "execution_count": 5,
   "metadata": {},
   "outputs": [
    {
     "name": "stdout",
     "output_type": "stream",
     "text": [
      "<class 'pandas.core.frame.DataFrame'>\n",
      "RangeIndex: 23735 entries, 0 to 23734\n",
      "Data columns (total 30 columns):\n",
      " #   Column                Non-Null Count  Dtype  \n",
      "---  ------                --------------  -----  \n",
      " 0   Unnamed: 0            23735 non-null  int64  \n",
      " 1   ACCIDENTDATE          23735 non-null  object \n",
      " 2   AOTACTUALMILEPOINT    23735 non-null  float64\n",
      " 3   AOTROUTE              23735 non-null  object \n",
      " 4   Animal                23735 non-null  object \n",
      " 5   CITYORTOWN            23735 non-null  object \n",
      " 6   DIROFCOLLI            23735 non-null  object \n",
      " 7   DayNight              23735 non-null  object \n",
      " 8   HOWMAPPED             23735 non-null  object \n",
      " 9   INTERSECTIONWITH      23735 non-null  object \n",
      " 10  Impairment            23735 non-null  object \n",
      " 11  InjuryType            23735 non-null  object \n",
      " 12  Involving             23735 non-null  object \n",
      " 13  LAT_DD                23735 non-null  float64\n",
      " 14  LOCALID               23735 non-null  object \n",
      " 15  LOC_ERROR             23735 non-null  object \n",
      " 16  LONG_DD               23735 non-null  float64\n",
      " 17  LRSNUMBER             23735 non-null  object \n",
      " 18  NonReportableAddress  23735 non-null  object \n",
      " 19  REPORTINGAGENCY       23735 non-null  object \n",
      " 20  REPORTNUMBER          23735 non-null  object \n",
      " 21  RoadCharacteristics   23735 non-null  object \n",
      " 22  RoadCondition         23735 non-null  object \n",
      " 23  RoadGroup             23735 non-null  object \n",
      " 24  STREETADDRESS         23735 non-null  object \n",
      " 25  SurfaceCondition      23735 non-null  object \n",
      " 26  Weather               23735 non-null  object \n",
      " 27  X                     23735 non-null  float64\n",
      " 28  Y                     23735 non-null  float64\n",
      " 29  Year                  23735 non-null  int64  \n",
      "dtypes: float64(5), int64(2), object(23)\n",
      "memory usage: 5.4+ MB\n"
     ]
    }
   ],
   "source": [
    "#get info\n",
    "df.info()"
   ]
  },
  {
   "cell_type": "code",
   "execution_count": 22,
   "metadata": {},
   "outputs": [
    {
     "data": {
      "text/plain": [
       "Unknown    2640\n",
       "US-7       1811\n",
       "I-89       1690\n",
       "I-91       1086\n",
       "US-2        963\n",
       "US-5        937\n",
       "VT-15       768\n",
       "VT-100      604\n",
       "VT-9        401\n",
       "VT-2A       341\n",
       "Name: AOTROUTE, dtype: int64"
      ]
     },
     "execution_count": 22,
     "metadata": {},
     "output_type": "execute_result"
    }
   ],
   "source": [
    "# frequency analyis for AOTRoute\n",
    "route_counts = df['AOTROUTE'].value_counts()\n",
    "route_counts.head(10)"
   ]
  },
  {
   "cell_type": "code",
   "execution_count": null,
   "metadata": {},
   "outputs": [],
   "source": [
    "# scale down"
   ]
  },
  {
   "cell_type": "code",
   "execution_count": 20,
   "metadata": {},
   "outputs": [
    {
     "data": {
      "text/html": [
       "<div>\n",
       "<style scoped>\n",
       "    .dataframe tbody tr th:only-of-type {\n",
       "        vertical-align: middle;\n",
       "    }\n",
       "\n",
       "    .dataframe tbody tr th {\n",
       "        vertical-align: top;\n",
       "    }\n",
       "\n",
       "    .dataframe thead th {\n",
       "        text-align: right;\n",
       "    }\n",
       "</style>\n",
       "<table border=\"1\" class=\"dataframe\">\n",
       "  <thead>\n",
       "    <tr style=\"text-align: right;\">\n",
       "      <th></th>\n",
       "      <th>Deer</th>\n",
       "      <th>Domestic</th>\n",
       "      <th>Moose</th>\n",
       "      <th>None/Other</th>\n",
       "      <th>Wild</th>\n",
       "    </tr>\n",
       "  </thead>\n",
       "  <tbody>\n",
       "    <tr>\n",
       "      <th>0</th>\n",
       "      <td>0</td>\n",
       "      <td>0</td>\n",
       "      <td>0</td>\n",
       "      <td>1</td>\n",
       "      <td>0</td>\n",
       "    </tr>\n",
       "    <tr>\n",
       "      <th>1</th>\n",
       "      <td>0</td>\n",
       "      <td>0</td>\n",
       "      <td>0</td>\n",
       "      <td>1</td>\n",
       "      <td>0</td>\n",
       "    </tr>\n",
       "    <tr>\n",
       "      <th>2</th>\n",
       "      <td>0</td>\n",
       "      <td>0</td>\n",
       "      <td>0</td>\n",
       "      <td>1</td>\n",
       "      <td>0</td>\n",
       "    </tr>\n",
       "    <tr>\n",
       "      <th>3</th>\n",
       "      <td>0</td>\n",
       "      <td>0</td>\n",
       "      <td>0</td>\n",
       "      <td>1</td>\n",
       "      <td>0</td>\n",
       "    </tr>\n",
       "    <tr>\n",
       "      <th>4</th>\n",
       "      <td>0</td>\n",
       "      <td>0</td>\n",
       "      <td>0</td>\n",
       "      <td>1</td>\n",
       "      <td>0</td>\n",
       "    </tr>\n",
       "    <tr>\n",
       "      <th>...</th>\n",
       "      <td>...</td>\n",
       "      <td>...</td>\n",
       "      <td>...</td>\n",
       "      <td>...</td>\n",
       "      <td>...</td>\n",
       "    </tr>\n",
       "    <tr>\n",
       "      <th>23730</th>\n",
       "      <td>0</td>\n",
       "      <td>0</td>\n",
       "      <td>0</td>\n",
       "      <td>1</td>\n",
       "      <td>0</td>\n",
       "    </tr>\n",
       "    <tr>\n",
       "      <th>23731</th>\n",
       "      <td>0</td>\n",
       "      <td>0</td>\n",
       "      <td>0</td>\n",
       "      <td>1</td>\n",
       "      <td>0</td>\n",
       "    </tr>\n",
       "    <tr>\n",
       "      <th>23732</th>\n",
       "      <td>0</td>\n",
       "      <td>0</td>\n",
       "      <td>0</td>\n",
       "      <td>1</td>\n",
       "      <td>0</td>\n",
       "    </tr>\n",
       "    <tr>\n",
       "      <th>23733</th>\n",
       "      <td>0</td>\n",
       "      <td>0</td>\n",
       "      <td>0</td>\n",
       "      <td>1</td>\n",
       "      <td>0</td>\n",
       "    </tr>\n",
       "    <tr>\n",
       "      <th>23734</th>\n",
       "      <td>0</td>\n",
       "      <td>0</td>\n",
       "      <td>0</td>\n",
       "      <td>1</td>\n",
       "      <td>0</td>\n",
       "    </tr>\n",
       "  </tbody>\n",
       "</table>\n",
       "<p>23735 rows × 5 columns</p>\n",
       "</div>"
      ],
      "text/plain": [
       "       Deer  Domestic  Moose  None/Other  Wild\n",
       "0         0         0      0           1     0\n",
       "1         0         0      0           1     0\n",
       "2         0         0      0           1     0\n",
       "3         0         0      0           1     0\n",
       "4         0         0      0           1     0\n",
       "...     ...       ...    ...         ...   ...\n",
       "23730     0         0      0           1     0\n",
       "23731     0         0      0           1     0\n",
       "23732     0         0      0           1     0\n",
       "23733     0         0      0           1     0\n",
       "23734     0         0      0           1     0\n",
       "\n",
       "[23735 rows x 5 columns]"
      ]
     },
     "execution_count": 20,
     "metadata": {},
     "output_type": "execute_result"
    }
   ],
   "source": [
    "#get dummies for animal\n",
    "animal = pd.get_dummies(df['Animal'])\n",
    "animal"
   ]
  },
  {
   "cell_type": "code",
   "execution_count": 7,
   "metadata": {},
   "outputs": [],
   "source": []
  },
  {
   "cell_type": "code",
   "execution_count": null,
   "metadata": {},
   "outputs": [],
   "source": []
  },
  {
   "cell_type": "code",
   "execution_count": null,
   "metadata": {},
   "outputs": [],
   "source": []
  },
  {
   "cell_type": "code",
   "execution_count": null,
   "metadata": {},
   "outputs": [],
   "source": []
  },
  {
   "cell_type": "code",
   "execution_count": 16,
   "metadata": {},
   "outputs": [
    {
     "name": "stdout",
     "output_type": "stream",
     "text": [
      "2016-12-14\n"
     ]
    }
   ],
   "source": [
    "datetime = df['ACCIDENTDATE']\n",
    "match = re.search(r'\\d{4}-\\d{2}-\\d{2}', datetime[0]).group()\n",
    "date = datetime.strptime(match.group(), '%Y-%m-%d').date()"
   ]
  }
 ],
 "metadata": {
  "kernelspec": {
   "display_name": "Python 3",
   "language": "python",
   "name": "python3"
  },
  "language_info": {
   "codemirror_mode": {
    "name": "ipython",
    "version": 3
   },
   "file_extension": ".py",
   "mimetype": "text/x-python",
   "name": "python",
   "nbconvert_exporter": "python",
   "pygments_lexer": "ipython3",
   "version": "3.6.8"
  }
 },
 "nbformat": 4,
 "nbformat_minor": 4
}
