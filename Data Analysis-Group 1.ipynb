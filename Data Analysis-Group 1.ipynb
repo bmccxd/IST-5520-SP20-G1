{
 "cells": [
  {
   "cell_type": "markdown",
   "metadata": {},
   "source": [
    "<h1 align = \"Center\"> IST 5520 Spring 2020: Group 1 Project Proposal </h1>\n",
    "<h2 align = \"Center\"> An Analysis of Vermont Crashes Data</h2>\n",
    "<h3 align = \"Center\"> By: Bryce Cordry, Kyle Johnson, Matthew Kovar, Yitian Luo, Brian Middleton </h3>"
   ]
  },
  {
   "cell_type": "markdown",
   "metadata": {},
   "source": [
    "# Introduction\n",
    "\n",
    "Traffic crashes happen every day in the world and they rank as the 9th leading cause of death. In the United States, there are an average of 16,438 car accidents per day. Moreover, nearly 1.25 million people die in car accidents per year, by this we mean that, car accidents cause 3,287 deaths per day. Therefore, it is important for us to get more information about car crashes and try to avoid them.\n",
    "\n",
    "We found a dataset of car crashes in the State of Vermont from the year 2014 to 2018. We are considering the dataset from the perspective of an insurance company using telematics devices in vehicles to create individualized risk profiles for policyholders located in Vermont and set their premiums accordingly. We are interested in determining what kinds of characteristics are responsible for vehicle accidents and how to use this information to adjust a policyholder's future premium once they are in an accident. To be more specific, we want to figure out what matters the most in the accidents. Also, we hope to find out factors that lead to various outcomes (property damage, injury or fatal). In addition, we want to find out areas or roads that are most prone to accidents."
   ]
  },
  {
   "cell_type": "markdown",
   "metadata": {},
   "source": [
    "# Data Source and Collection\n",
    "\n",
    "The dataset was downloaded from the Vermont Open Geodata Portal (https://geodata.vermont.gov/datasets/VTrans::vt-crashes-2018?orderBy=ACCIDENTDATE&orderByAsc=false). \n",
    "We combined the data from year 2014 to year 2018 and it contains 61,562 car accidents in Vermont. The data was collected by various reporting agencies within Vermont. \n",
    "\n",
    "This dataset contains 36 columns listed below. Some of the key information includes the type of injury, the impairment of the driver, the accident location, date, weather, the road conditions, as well as the reporting agency. All of this information can be useful for us in determining how the insured's future premiums will be adjusted.\n",
    " \n",
    "\n",
    "- \tOBJECTID \n",
    "-   REPORTINGAGENCYid \n",
    "- \tReportingAgency \n",
    "- \tREPORTNUMBER \n",
    "- \tACCIDENTDATE \n",
    "- \tSTREETADDRESS \n",
    "- \tINTERSECTIONWITH \n",
    "- \tDirOfCollision \n",
    "- \tRoadGroup \n",
    "- \tAOTACTUALMILEPOINT \n",
    "- \tRoadCharacteristics \n",
    "- \tNonReportableAddress \n",
    "- \tCITYORTOWNid \n",
    "- \tCITYORTOWN \n",
    "- \tEASTING \n",
    "- \tNORTHING\n",
    "- \tAOTROUTEid \n",
    "-\tAOTROUTE \n",
    "-\tLRSNUMBER \n",
    "-\tHOWMAPPED \n",
    "-\tAnimal \n",
    "-\tImpairment \n",
    "-\tInvolving \n",
    "-\tWeather \n",
    "-\tDayNight \n",
    "-\tInjuryType \n",
    "-\tLOC_ERROR \n",
    "-\tRDFLNAME \n",
    "-\tSurfaceCondition \n",
    "-\tRoadCondition \n",
    "-\tRoute \n",
    "-\tLATITUDE \n",
    "-\tLONGITUDE \n",
    "-\tAOTROADWAYGROUPid \n"
   ]
  },
  {
   "cell_type": "markdown",
   "metadata": {},
   "source": [
    "# Technical Approach"
   ]
  },
  {
   "cell_type": "markdown",
   "metadata": {},
   "source": [
    "### Data Manipulation\n",
    "\n",
    "Use Pandas/Numpy/Scipy for datasets manipulation."
   ]
  },
  {
   "cell_type": "code",
   "execution_count": 8,
   "metadata": {},
   "outputs": [
    {
     "name": "stderr",
     "output_type": "stream",
     "text": [
      "c:\\program files\\python36\\lib\\site-packages\\ipykernel_launcher.py:28: FutureWarning: The signature of `Series.to_csv` was aligned to that of `DataFrame.to_csv`, and argument 'header' will change its default value from False to True: please pass an explicit value to suppress this warning.\n"
     ]
    },
    {
     "name": "stdout",
     "output_type": "stream",
     "text": [
      "<class 'pandas.core.series.Series'>\n"
     ]
    }
   ],
   "source": [
    "import pandas as pd\n",
    "\n",
    "years = [2015, 2016, 2017, 2018]\n",
    "df_dict = {year:pd.read_csv(\"VT_Crashes__{}.csv\".format(str(year))) for year in years}\n",
    "\n",
    "for year, df in df_dict.items():\n",
    "  df_dict[year] = df.rename(columns={\"ACCIDENTDA\":\"ACCIDENTDATE\", \n",
    "                                     \"AOTACTUALM\":\"AOTACTUALMILEPOINT\",\n",
    "                                     \"INTERSECTI\":\"INTERSECTIONWITH\",\n",
    "                                     \"STREETADDR\":\"STREETADDRESS\",\n",
    "                                     \"REPORTNUMB\":\"REPORTNUMBER\",\n",
    "                                     \"ReportingAgency\":\"REPORTINGAGENCY\",\n",
    "                                     \"DirOfCollision\":\"DIROFCOLLI\",\n",
    "                                     \"VCSG_LRSNUMBER\":\"LRSNUMBER\",\n",
    "                                     \"REPORTINGA\":\"REPORTINGAGENCYid\",\n",
    "                                     \"VCSG_EASTING\":\"EASTING\",\n",
    "                                     \"VCSG_NORTHING\":\"NORTHING\",\n",
    "                                     \"VCSG_AOTROUTE\":\"AOTROUTE\",\n",
    "                                     \"VCSG_CITYORTOWN\":\"CITYORTOWN\"})\n",
    "  df_dict[year][\"Year\"] = year\n",
    "\n",
    "df_dict[2018] = df_dict[2018].rename(columns={\"LATITUDE\":\"LAT_DD\",\"LONGITUDE\":\"LONG_DD\"})\n",
    "df_dict[2017] = df_dict[2017].rename(columns={\"GIS_LATITUDE\":\"LAT_DD\",\"GIS_LONGITUDE\":\"LONG_DD\"})\n",
    "\n",
    "df = pd.concat(df_dict.values(), sort=True)\n",
    "\n",
    "nullCount = df.isna().sum()\n",
    "nullCount.to_csv(\"nullCount.csv\")\n",
    "print(type(nullCount))\n",
    "df.to_csv(\"combined.csv\")"
   ]
  },
  {
   "cell_type": "markdown",
   "metadata": {},
   "source": [
    "### Data Analysis\n",
    "\n",
    "Analyze the different accidents type under different conditions. Data visualization including hot map of the areas that car crashes happened in Vermont and the histogram of the accidents under different situations."
   ]
  },
  {
   "cell_type": "markdown",
   "metadata": {},
   "source": [
    "### Machine Learning\n",
    "\n",
    "Conduct the regression and time series analysis to provide the future prediction for the premiums."
   ]
  },
  {
   "cell_type": "markdown",
   "metadata": {},
   "source": [
    "# Business Questions"
   ]
  },
  {
   "cell_type": "markdown",
   "metadata": {},
   "source": [
    "After understanding where the data comes from and what it includes, we are able to simplify our business questions down to the following: \n",
    "\n",
    "1. Which factors cause accidents?\n",
    "2. Which factors best determine the outcome of an accident\n",
    "3. Which roads are most prone to accidents, and how can we improve them?"
   ]
  }
 ],
 "metadata": {
  "kernelspec": {
   "display_name": "Python 3",
   "language": "python",
   "name": "python3"
  },
  "language_info": {
   "codemirror_mode": {
    "name": "ipython",
    "version": 3
   },
   "file_extension": ".py",
   "mimetype": "text/x-python",
   "name": "python",
   "nbconvert_exporter": "python",
   "pygments_lexer": "ipython3",
   "version": "3.6.8"
  }
 },
 "nbformat": 4,
 "nbformat_minor": 4
}
