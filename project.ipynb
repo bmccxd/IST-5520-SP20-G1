{
 "cells": [
  {
   "cell_type": "markdown",
   "metadata": {},
   "source": [
    "# Project Proposal\n",
    "\n",
    "- Bryce Cordry\n",
    "- Kyle Johnson\n",
    "- Matthew Kovar\n",
    "- Yitian Luo\n",
    "- Brian Middleton"
   ]
  },
  {
   "cell_type": "markdown",
   "metadata": {},
   "source": [
    "## Introduction"
   ]
  },
  {
   "cell_type": "markdown",
   "metadata": {},
   "source": [
    "## Data Source and Collection"
   ]
  },
  {
   "cell_type": "markdown",
   "metadata": {},
   "source": [
    "[Data Source](https://geodata.vermont.gov/datasets/90b7f1ff5ae04446b82a1d46a0b9d524_22/data?geometry=-81.131%2C42.475%2C-63.740%2C45.247&orderBy=InjuryType&orderByAsc=false&page=988)"
   ]
  }
 ],
 "metadata": {
  "kernelspec": {
   "display_name": "Python 3",
   "language": "python",
   "name": "python3"
  },
  "language_info": {
   "codemirror_mode": {
    "name": "ipython",
    "version": 3
   },
   "file_extension": ".py",
   "mimetype": "text/x-python",
   "name": "python",
   "nbconvert_exporter": "python",
   "pygments_lexer": "ipython3",
   "version": "3.6.8"
  }
 },
 "nbformat": 4,
 "nbformat_minor": 4
}
