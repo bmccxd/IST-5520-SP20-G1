{
 "cells": [
  {
   "cell_type": "markdown",
   "metadata": {},
   "source": [
    "# Project Proposal\n",
    "\n",
    "- Bryce Cordry\n",
    "- Kyle Johnson\n",
    "- Matthew Kovar\n",
    "- Yitian Luo\n",
    "- Brian Middleton"
   ]
  },
  {
   "cell_type": "markdown",
   "metadata": {},
   "source": [
    "## Introduction\n",
    "We are considering the dataset from the perspective of an insurer using telematics devices in vehciles to create individualized risk profiles for insureds located in Vermont and set their premiums accordingly. We are interested in determining what kinds of characteristics are responsible for vehicle accidents and how to use this information to adjust an insured's future premium once they are in an accident."
   ]
  },
  {
   "cell_type": "markdown",
   "metadata": {},
   "source": [
    "## Data Source and Collection\n",
    "The data source is a set of 10,000 car accidents in Vermont from taken from the Vermont Open Geodata Portal. The data was collected by various reporting agencies within Vermont. Some key information in the dataset includes the type of injury, the impairment of the driver, the accident location, weather, the road conditions, as well as the reporting agency. All of this information can be useful in determining how the insured's future premiums will be adjusted."
   ]
  },
  {
   "cell_type": "markdown",
   "metadata": {},
   "source": [
    "[Data Source](https://geodata.vermont.gov/datasets/90b7f1ff5ae04446b82a1d46a0b9d524_22/data?geometry=-81.131%2C42.475%2C-63.740%2C45.247&orderBy=InjuryType&orderByAsc=false&page=988)"
   ]
  }
 ],
 "metadata": {
  "kernelspec": {
   "display_name": "Python 3",
   "language": "python",
   "name": "python3"
  },
  "language_info": {
   "codemirror_mode": {
    "name": "ipython",
    "version": 3
   },
   "file_extension": ".py",
   "mimetype": "text/x-python",
   "name": "python",
   "nbconvert_exporter": "python",
   "pygments_lexer": "ipython3",
   "version": "3.6.8"
  }
 },
 "nbformat": 4,
 "nbformat_minor": 4
}
